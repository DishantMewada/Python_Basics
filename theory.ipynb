{
 "metadata": {
  "language_info": {
   "codemirror_mode": {
    "name": "ipython",
    "version": 3
   },
   "file_extension": ".py",
   "mimetype": "text/x-python",
   "name": "python",
   "nbconvert_exporter": "python",
   "pygments_lexer": "ipython3",
   "version": "3.8.10"
  },
  "orig_nbformat": 4,
  "kernelspec": {
   "name": "python3",
   "display_name": "Python 3.8.10 64-bit ('venv': venv)"
  },
  "interpreter": {
   "hash": "cfad60bf3bfb8441fdd58d463f90ba5ffec9983e8972a60af19b09baaa973e8e"
  }
 },
 "nbformat": 4,
 "nbformat_minor": 2,
 "cells": [
  {
   "source": [
    "## Why Python?\n",
    "1. Easy to use language\n",
    "2. Lots of existing libraries and frameworks written in Python allowing users to apply Python to a wide variety of tasks \n",
    "3. Focuses on developer time than computer's processing time\n",
    "4. Great official documentation\n"
   ],
   "cell_type": "markdown",
   "metadata": {}
  },
  {
   "source": [
    "## What can you do with Python?\n",
    "1. Automate simple tasks\n",
    "\n",
    "Eg. searching files and edit them, \n",
    "    scraping information from a website,\n",
    "    reading and editing excel files,\n",
    "    work with PDFs,\n",
    "    automate email and text messages,\n",
    "    fill out forms\n",
    "\n",
    "2. Data Science and Machine Learning\n",
    "\n",
    "Eg. Analyze large data files,\n",
    "    create visualizations,\n",
    "    perform machine learning tasks,\n",
    "    create and run predictive algorithms\n",
    "\n",
    "3. Create websites\n",
    "\n",
    "Eg. Use web frameworks such as Django and Flask to handle the backend of a website and user data, \n",
    "    create interactive dashboards for users "
   ],
   "cell_type": "markdown",
   "metadata": {}
  }
 ]
}
