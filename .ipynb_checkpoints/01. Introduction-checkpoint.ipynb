{
 "cells": [
  {
   "cell_type": "markdown",
   "metadata": {},
   "source": [
    "## Why Python?\n",
    "1. Easy to use language\n",
    "2. Lots of existing libraries and frameworks written in Python allowing users to apply Python to a wide variety of tasks \n",
    "3. Focuses on developer time than computer's processing time\n",
    "4. Great official documentation\n"
   ]
  },
  {
   "cell_type": "markdown",
   "metadata": {},
   "source": [
    "## What can you do with Python?\n",
    "1. Automate simple tasks\n",
    "\n",
    "Eg. searching files and edit them, \n",
    "    scraping information from a website,\n",
    "    reading and editing excel files,\n",
    "    work with PDFs,\n",
    "    automate email and text messages,\n",
    "    fill out forms\n",
    "\n",
    "2. Data Science and Machine Learning\n",
    "\n",
    "Eg. Analyze large data files,\n",
    "    create visualizations,\n",
    "    perform machine learning tasks,\n",
    "    create and run predictive algorithms\n",
    "\n",
    "3. Create websites\n",
    "\n",
    "Eg. Use web frameworks such as Django and Flask to handle the backend of a website and user data, \n",
    "    create interactive dashboards for users "
   ]
  },
  {
   "cell_type": "markdown",
   "metadata": {},
   "source": [
    "## DataTypes:\n",
    "int -> whole numbers\n",
    "\n",
    "float -> numbers with a decima point\n",
    "\n",
    "str -> ordered Sequence of characters ' ', \" \" IMMUTABLE\n",
    "\n",
    "list -> ordered sequence of objects \\[' ', ] MUTABLE\n",
    "\n",
    "dict -> unordered key:value pair {:} MUTABLE\n",
    "\n",
    "tup -> ordered immutable sequence of objects () IMMUTABLE\n",
    "\n",
    "set -> unordered collection of unique objects {,} MUTABLE\n",
    "\n",
    "bool -> logical value indicating True or False"
   ]
  },
  {
   "cell_type": "markdown",
   "metadata": {},
   "source": [
    "## Variable Assignment:\n",
    "\n",
    "not valid:\n",
    "\n",
    "123dof -> can't start with a number\n",
    "\n",
    "adolf hitler -> no spaces\n",
    "\n",
    "special characters\n",
    "\n",
    "keywords\n",
    "\n",
    "\n",
    "\n"
   ]
  },
  {
   "cell_type": "markdown",
   "metadata": {},
   "source": [
    "## Operators (follows BODMAS):\n",
    "\n",
    "addition -> +\n",
    "\n",
    "subtraction -> -\n",
    "\n",
    "division -> / (gives float)\n",
    "\n",
    "mod or modulo -> % (gives remainder in int)\n",
    "\n",
    "powers -> **\n",
    "\n"
   ]
  },
  {
   "cell_type": "markdown",
   "metadata": {},
   "source": [
    "## Python uses Dynamic Typing\n",
    "\n",
    "ie you can reassign variables to different data types.\n",
    "\n",
    "Dynamic typing--\n",
    "\n",
    "my_dogs = 2\n",
    "\n",
    "my_dogs = \\['tiger','shadow']\n",
    "\n",
    "Statically-Typed--\n",
    "\n",
    "int my_dog = 1;\n",
    "\n",
    "my_dog = 'sam'; //results in error\n",
    "\n"
   ]
  },
  {
   "cell_type": "code",
   "execution_count": 1,
   "metadata": {},
   "outputs": [
    {
     "name": "stdout",
     "output_type": "stream",
     "text": [
      "<class 'int'>\n"
     ]
    }
   ],
   "source": [
    "my_dogs = 2\n",
    "print(type(my_dogs))"
   ]
  },
  {
   "cell_type": "code",
   "execution_count": 2,
   "metadata": {
    "scrolled": true
   },
   "outputs": [
    {
     "name": "stdout",
     "output_type": "stream",
     "text": [
      "<class 'list'>\n"
     ]
    }
   ],
   "source": [
    "my_dogs = ['tiger','shadow']\n",
    "print(type(my_dogs))"
   ]
  },
  {
   "cell_type": "markdown",
   "metadata": {},
   "source": [
    "### Most important python built-in function\n",
    "\n",
    "### help()"
   ]
  },
  {
   "cell_type": "code",
   "execution_count": 3,
   "metadata": {},
   "outputs": [
    {
     "name": "stdout",
     "output_type": "stream",
     "text": [
      "Help on class type in module builtins:\n",
      "\n",
      "class type(object)\n",
      " |  type(object_or_name, bases, dict)\n",
      " |  type(object) -> the object's type\n",
      " |  type(name, bases, dict) -> a new type\n",
      " |  \n",
      " |  Methods defined here:\n",
      " |  \n",
      " |  __call__(self, /, *args, **kwargs)\n",
      " |      Call self as a function.\n",
      " |  \n",
      " |  __delattr__(self, name, /)\n",
      " |      Implement delattr(self, name).\n",
      " |  \n",
      " |  __dir__(self, /)\n",
      " |      Specialized __dir__ implementation for types.\n",
      " |  \n",
      " |  __getattribute__(self, name, /)\n",
      " |      Return getattr(self, name).\n",
      " |  \n",
      " |  __init__(self, /, *args, **kwargs)\n",
      " |      Initialize self.  See help(type(self)) for accurate signature.\n",
      " |  \n",
      " |  __instancecheck__(self, instance, /)\n",
      " |      Check if an object is an instance.\n",
      " |  \n",
      " |  __repr__(self, /)\n",
      " |      Return repr(self).\n",
      " |  \n",
      " |  __setattr__(self, name, value, /)\n",
      " |      Implement setattr(self, name, value).\n",
      " |  \n",
      " |  __sizeof__(self, /)\n",
      " |      Return memory consumption of the type object.\n",
      " |  \n",
      " |  __subclasscheck__(self, subclass, /)\n",
      " |      Check if a class is a subclass.\n",
      " |  \n",
      " |  __subclasses__(self, /)\n",
      " |      Return a list of immediate subclasses.\n",
      " |  \n",
      " |  mro(self, /)\n",
      " |      Return a type's method resolution order.\n",
      " |  \n",
      " |  ----------------------------------------------------------------------\n",
      " |  Class methods defined here:\n",
      " |  \n",
      " |  __prepare__(...)\n",
      " |      __prepare__() -> dict\n",
      " |      used to create the namespace for the class statement\n",
      " |  \n",
      " |  ----------------------------------------------------------------------\n",
      " |  Static methods defined here:\n",
      " |  \n",
      " |  __new__(*args, **kwargs)\n",
      " |      Create and return a new object.  See help(type) for accurate signature.\n",
      " |  \n",
      " |  ----------------------------------------------------------------------\n",
      " |  Data descriptors defined here:\n",
      " |  \n",
      " |  __abstractmethods__\n",
      " |  \n",
      " |  __dict__\n",
      " |  \n",
      " |  __text_signature__\n",
      " |  \n",
      " |  ----------------------------------------------------------------------\n",
      " |  Data and other attributes defined here:\n",
      " |  \n",
      " |  __base__ = <class 'object'>\n",
      " |      The base class of the class hierarchy.\n",
      " |      \n",
      " |      When called, it accepts no arguments and returns a new featureless\n",
      " |      instance that has no instance attributes and cannot be given any.\n",
      " |  \n",
      " |  __bases__ = (<class 'object'>,)\n",
      " |  \n",
      " |  __basicsize__ = 880\n",
      " |  \n",
      " |  __dictoffset__ = 264\n",
      " |  \n",
      " |  __flags__ = 2148291584\n",
      " |  \n",
      " |  __itemsize__ = 40\n",
      " |  \n",
      " |  __mro__ = (<class 'type'>, <class 'object'>)\n",
      " |  \n",
      " |  __weakrefoffset__ = 368\n",
      "\n"
     ]
    }
   ],
   "source": [
    "help(type)"
   ]
  },
  {
   "cell_type": "code",
   "execution_count": 4,
   "metadata": {
    "scrolled": true
   },
   "outputs": [
    {
     "name": "stdout",
     "output_type": "stream",
     "text": [
      "Help on built-in function print in module builtins:\n",
      "\n",
      "print(...)\n",
      "    print(value, ..., sep=' ', end='\\n', file=sys.stdout, flush=False)\n",
      "    \n",
      "    Prints the values to a stream, or to sys.stdout by default.\n",
      "    Optional keyword arguments:\n",
      "    file:  a file-like object (stream); defaults to the current sys.stdout.\n",
      "    sep:   string inserted between values, default a space.\n",
      "    end:   string appended after the last value, default a newline.\n",
      "    flush: whether to forcibly flush the stream.\n",
      "\n"
     ]
    }
   ],
   "source": [
    "help(print)"
   ]
  },
  {
   "cell_type": "code",
   "execution_count": 5,
   "metadata": {},
   "outputs": [
    {
     "name": "stdout",
     "output_type": "stream",
     "text": [
      "Help on built-in function round in module builtins:\n",
      "\n",
      "round(number, ndigits=None)\n",
      "    Round a number to a given precision in decimal digits.\n",
      "    \n",
      "    The return value is an integer if ndigits is omitted or None.  Otherwise\n",
      "    the return value has the same type as the number.  ndigits may be negative.\n",
      "\n"
     ]
    }
   ],
   "source": [
    "help(round)"
   ]
  },
  {
   "cell_type": "markdown",
   "metadata": {},
   "source": [
    "## Chapter 01: \n",
    "## Strings -> ' ' / \" \" / \" '     \""
   ]
  },
  {
   "cell_type": "code",
   "execution_count": 6,
   "metadata": {
    "scrolled": false
   },
   "outputs": [
    {
     "name": "stdout",
     "output_type": "stream",
     "text": [
      "5\n",
      "hello\n",
      "hello\n",
      "hlo\n",
      "olleh\n",
      "\n",
      "\n",
      "\n",
      "'\n",
      "\\\n",
      "I am a \"Coder\"\n",
      "new\n",
      "line\n",
      "name\tage\n"
     ]
    }
   ],
   "source": [
    "\n",
    "mystring = 'hello'\n",
    "print(len(mystring))\n",
    "\n",
    "# h  e  l  l  o \n",
    "# 0  1  2  3  4\n",
    "# 0 -4 -3 -2 -1\n",
    "\n",
    "print(mystring[:])\n",
    "print(mystring[::])\n",
    "# indexing -> mystring[-2] gives 'l' \n",
    "# slicing -> mystring[2:] gives 'llo'\n",
    "#            mystring[1:3] gives 'el'\n",
    "#            mystring[:3] gives 'hel'\n",
    "# mystring[start:stop:step]\n",
    "print(mystring[::2])\n",
    "print(mystring[::-1]) # reverses the string \n",
    "\n",
    "# escape sequences\n",
    "print(\"\\n\\n\")\n",
    "print(\"\\'\")\n",
    "print(\"\\\\\") \n",
    "print(\"I am a \\\"Coder\\\"\")\n",
    "print(\"new\\nline\")\n",
    "print(\"name\\tage\")\n"
   ]
  },
  {
   "cell_type": "markdown",
   "metadata": {},
   "source": [
    "## String operations"
   ]
  },
  {
   "cell_type": "code",
   "execution_count": 7,
   "metadata": {},
   "outputs": [
    {
     "name": "stdout",
     "output_type": "stream",
     "text": [
      "Pam PamPamPam\n",
      "\n",
      "\n",
      "                id memory_location\n",
      "0  140486568940656  0x7fc594099470\n",
      "1  140486568921392  0x7fc594094930\n",
      "\n",
      "\n",
      "DISHANT MEWADA! dishant mewada! Dishant mewada!\n",
      "['dishant', 'mewada!'] ['', 'ishant mewa', 'a!']\n"
     ]
    }
   ],
   "source": [
    "name = \"Sam\"\n",
    "last_letters = name[1:]\n",
    "new_name = 'P' + last_letters # string concatenation\n",
    "print(new_name, new_name * 3)\n",
    "print('\\n')\n",
    "\n",
    "x = 'hello world!'\n",
    "old_id = id(x)\n",
    "old_mem_loc = hex(id(x)) \n",
    "\n",
    "x = x + ' it is amazing outside.'\n",
    "new_id = id(x)\n",
    "new_mem_loc = hex(id(x))\n",
    "\n",
    "import pandas as pd\n",
    "\n",
    "d = [[old_id, old_mem_loc],\n",
    "     [new_id, new_mem_loc]]\n",
    "\n",
    "df = pd.DataFrame(d, columns = ['id','memory_location'])\n",
    "print(df)\n",
    "print('\\n')\n",
    "\n",
    "x = 'dishant mewada!'\n",
    "print(x.upper(),x.lower(),x.capitalize())\n",
    "print(x.split(),x.split('d'))\n",
    "\n"
   ]
  },
  {
   "cell_type": "code",
   "execution_count": 8,
   "metadata": {},
   "outputs": [
    {
     "name": "stdout",
     "output_type": "stream",
     "text": [
      "Enter a name:Dishant\n",
      "Enter an id:1701\n",
      "\n",
      "Hello, Dishant: 1701\n",
      "Hello, Dishant: 1701\n",
      "Hello, Dishant: 1701\n",
      "Hello, Dishant: 1701 Dishant\n",
      "Hello, Dishant: 1701\n",
      "Hello, Dishant: 1701\n"
     ]
    }
   ],
   "source": [
    "username = input(\"Enter a name:\")\n",
    "while True:\n",
    "    try:\n",
    "        idx = int(input(\"Enter an id:\"))\n",
    "        break\n",
    "    except ValueError as e:\n",
    "        print(\"Not a proper integer! Try it again\")\n",
    "\n",
    "print(\"\\nHello, \" + username + \":\", idx)\n",
    "print(\"Hello, {}: {}\".format(username, idx))\n",
    "print(\"Hello, {1}: {0}\".format(idx, username))\n",
    "print(\"Hello, {1}: {0} {1}\".format(idx, username))\n",
    "print(\"Hello, {u}: {i}\".format(i = idx, u = username))\n",
    "print(f\"Hello, {username}: {idx}\") # f-string"
   ]
  },
  {
   "cell_type": "code",
   "execution_count": 9,
   "metadata": {},
   "outputs": [
    {
     "name": "stdout",
     "output_type": "stream",
     "text": [
      "The result was 0.6394267984578837\n",
      "The result was 63.942679845788376%\n",
      "The result was 63.943%\n",
      "The result was     63.943%\n"
     ]
    }
   ],
   "source": [
    "from random import seed\n",
    "from random import random\n",
    "\n",
    "seed(42)\n",
    "result = random()\n",
    "\n",
    "print(f\"The result was {result}\")\n",
    "print(\"The result was {}%\".format(result*100))\n",
    "print(\"The result was {r:1.3f}%\".format(r=result*100))\n",
    "print(\"The result was {r:10.3f}%\".format(r=result*100))"
   ]
  },
  {
   "cell_type": "markdown",
   "metadata": {},
   "source": [
    "## Chapter: 02\n",
    "## Lists"
   ]
  },
  {
   "cell_type": "code",
   "execution_count": 53,
   "metadata": {},
   "outputs": [
    {
     "name": "stdout",
     "output_type": "stream",
     "text": [
      "['string', 20.0, True] 3 \n",
      "\n",
      "string\n",
      "[20.0, True]\n",
      "1\n",
      "True \n",
      "\n",
      "['string', 20.0, True, 33] 4 \n",
      "\n",
      "['STRING', 20.0, True, 33] 4 \n",
      "\n",
      "['STRING', 20.0, True, 33, 'appended'] 5 \n",
      "\n",
      "['STRING', 20.0, True, 33] 4 \n",
      "\n",
      "appended 8 \n",
      "\n",
      "[20.0, True, 33] 3 \n",
      "\n",
      "STRING 6 \n",
      "\n",
      "[True, 20.0, 33] 3 \n",
      "\n",
      "[True, 20.0, 33] 3 \n",
      "\n",
      "[33, 20.0, True] 3 \n",
      "\n"
     ]
    }
   ],
   "source": [
    "def list_operation(my_list):\n",
    "\n",
    "    \n",
    "    list_print(my_list)\n",
    "    \n",
    "    print(my_list[0]) # slicing works the same as String\n",
    "    print(my_list[1:])\n",
    "    print(my_list.index(20.0))\n",
    "    print('string' in my_list,'\\n')\n",
    "\n",
    "    another_list = [33] \n",
    "    my_list = my_list + another_list  #concatenation\n",
    "    list_print(my_list)\n",
    "\n",
    "    my_list[0] = my_list[0].upper()\n",
    "    list_print(my_list)\n",
    "\n",
    "    my_list.append('appended')\n",
    "    list_print(my_list)\n",
    "\n",
    "    popped_item = my_list.pop() # default argument -1\n",
    "    list_print(my_list)\n",
    "    \n",
    "    list_print(popped_item)\n",
    "    \n",
    "    popped_item = my_list.pop(0)\n",
    "    list_print(my_list)\n",
    "    \n",
    "    list_print(popped_item)\n",
    "    \n",
    "    my_list.sort() # inplace \n",
    "    list_print(my_list)\n",
    "    \n",
    "    list_print(sorted(my_list)) # inbuilt function\n",
    "    \n",
    "    # inplace means it doesnt return anything,\n",
    "    # ie you cannot assign variable to it or you will get NULL as a result\n",
    "    # but still it will change the list and you have to call the list again\n",
    "    my_list.reverse() # inplace\n",
    "    list_print(my_list)\n",
    "    \n",
    "def list_print(my_list):\n",
    "    print(my_list,len(my_list),'\\n')\n",
    "    \n",
    "test = ['string', 100/5, True]\n",
    "list_operation(test)"
   ]
  },
  {
   "cell_type": "code",
   "execution_count": 11,
   "metadata": {},
   "outputs": [
    {
     "name": "stdout",
     "output_type": "stream",
     "text": [
      "[4, 5, 6] [1, 2, 3] [1, 2, 3]\n",
      "[4, 5, 6] [1, 2, 3]\n"
     ]
    }
   ],
   "source": [
    "# swap two lists\n",
    "a = [1,2,3]\n",
    "b = [4,5,6]\n",
    "\n",
    "temp = []\n",
    "temp = a \n",
    "a = b\n",
    "b = temp\n",
    "\n",
    "print(a,b,temp)\n",
    "\n",
    "# Another way\n",
    "a,b = [1,2,3],[4,5,6]\n",
    "a,b = b,a\n",
    "print(a,b)"
   ]
  },
  {
   "cell_type": "markdown",
   "metadata": {},
   "source": [
    "## Chapter: 03\n",
    "## Dictionary"
   ]
  },
  {
   "cell_type": "code",
   "execution_count": 12,
   "metadata": {},
   "outputs": [
    {
     "name": "stdout",
     "output_type": "stream",
     "text": [
      "[84, None]\n",
      "\n",
      "\n",
      "{'JOhn': [76, None], 'Marcia': [84, None], 'Jimmy': [95, {'GRE': 'A2', 'SAT': [91.55, 86.55, 93.45, 98.44]}]}\n",
      "\n",
      "\n",
      "[91.55, 86.55, 93.45, 98.44]\n",
      "\n",
      "\n",
      "{'JOhn': [76, None], 'Marcia': [87, {'SAT': [71.55, 86, 85.2, 88.6]}], 'Jimmy': [95, {'GRE': 'A2', 'SAT': [91.55, 86.55, 93.45, 98.44]}]}\n",
      "\n",
      "\n",
      "dict_keys(['JOhn', 'Marcia', 'Jimmy'])\n",
      "dict_values([[76, None], [87, {'SAT': [71.55, 86, 85.2, 88.6]}], [95, {'GRE': 'A2', 'SAT': [91.55, 86.55, 93.45, 98.44]}]])\n",
      "dict_items([('JOhn', [76, None]), ('Marcia', [87, {'SAT': [71.55, 86, 85.2, 88.6]}]), ('Jimmy', [95, {'GRE': 'A2', 'SAT': [91.55, 86.55, 93.45, 98.44]}])])\n",
      "\n",
      "\n",
      "{'Marcia': [87, {'SAT': [71.55, 86, 85.2, 88.6]}], 'Jimmy': [95, {'GRE': 'A2', 'SAT': [91.55, 86.55, 93.45, 98.44]}]}\n",
      "\n",
      "\n"
     ]
    }
   ],
   "source": [
    "def new_line():\n",
    "    print('\\n')\n",
    "\n",
    "student_score = {'JOhn':[76,None], 'Marcia':[84,None]}\n",
    "print(student_score['Marcia'])\n",
    "new_line()\n",
    "\n",
    "student_score['Jimmy'] = [95, {'GRE':'A2', 'SAT':[91.55,86.55,93.45,98.44]}]\n",
    "print(student_score)\n",
    "new_line()\n",
    "\n",
    "print(student_score['Jimmy'][1]['SAT'])\n",
    "new_line()\n",
    "\n",
    "\n",
    "student_score['Marcia'] = [87,{'SAT':[71.55,86,85.2,88.6]}]\n",
    "print(student_score)\n",
    "new_line()\n",
    "\n",
    "print(student_score.keys())\n",
    "print(student_score.values())\n",
    "print(student_score.items())\n",
    "new_line()\n",
    "\n",
    "# Keys cannot be changed. \n",
    "# You will need to add a new key with the modified value then remove the old one.\n",
    "# del student_score['JOhn']\n",
    "# or\n",
    "student_score.pop('JOhn')\n",
    "print(student_score)\n",
    "new_line()"
   ]
  },
  {
   "cell_type": "markdown",
   "metadata": {},
   "source": [
    "## Dict Comprehension\n",
    "### dict_variable = {key:value for (key,value) in dictonary.items()}"
   ]
  },
  {
   "cell_type": "code",
   "execution_count": 13,
   "metadata": {},
   "outputs": [
    {
     "name": "stdout",
     "output_type": "stream",
     "text": [
      "{'a': 1, 'b': 2, 'c': 3, 'd': 4, 'e': 5}\n",
      "{'a': 2, 'b': 4, 'c': 6, 'd': 8, 'e': 10}\n",
      "{'aa': 1, 'bb': 2, 'cc': 3, 'dd': 4, 'ee': 5}\n"
     ]
    }
   ],
   "source": [
    "dict1 = {'a': 1, 'b': 2, 'c': 3, 'd': 4, 'e': 5}\n",
    "print(dict1)\n",
    "# Double each value in the dictionary\n",
    "double_dict1_values = {k:v*2 for (k,v) in dict1.items()}\n",
    "print(double_dict1_values)\n",
    "double_dict1_keys = {k*2:v for (k,v) in dict1.items()}\n",
    "print(double_dict1_keys)"
   ]
  },
  {
   "cell_type": "markdown",
   "metadata": {},
   "source": [
    "## Chapter: 04\n",
    "## Tuples"
   ]
  },
  {
   "cell_type": "code",
   "execution_count": 14,
   "metadata": {},
   "outputs": [
    {
     "name": "stdout",
     "output_type": "stream",
     "text": [
      "<class 'tuple'> 6\n",
      "one 1\n",
      "2\n",
      "1\n"
     ]
    }
   ],
   "source": [
    "numbers = ('one',2,3,3,2,1)\n",
    "print(type(numbers), len(numbers))\n",
    "print(numbers[0],numbers[-1])\n",
    "print(numbers.count(3)) # number of occurrence \n",
    "print(numbers.index(2)) # first appearance"
   ]
  },
  {
   "cell_type": "markdown",
   "metadata": {},
   "source": [
    "Tuples are often used for functions that have multiple return values."
   ]
  },
  {
   "cell_type": "code",
   "execution_count": 56,
   "metadata": {},
   "outputs": [
    {
     "name": "stdout",
     "output_type": "stream",
     "text": [
      "(1, 8)\n",
      "1 8\n"
     ]
    }
   ],
   "source": [
    "x = 0.125\n",
    "print(x.as_integer_ratio())\n",
    "numerator, denominator = x.as_integer_ratio() # These multiple return values can be individually assigned as follows:\n",
    "print(numerator,denominator) "
   ]
  },
  {
   "cell_type": "markdown",
   "metadata": {},
   "source": [
    "## Chapter: 05\n",
    "## Sets"
   ]
  },
  {
   "cell_type": "code",
   "execution_count": 15,
   "metadata": {},
   "outputs": [
    {
     "name": "stdout",
     "output_type": "stream",
     "text": [
      "set()\n",
      "{1}\n",
      "{1, 2}\n",
      "{1, 2}\n"
     ]
    }
   ],
   "source": [
    "myset = set()\n",
    "print(myset)\n",
    "myset.add(1)\n",
    "print(myset)\n",
    "myset.add(2)\n",
    "print(myset)\n",
    "myset.add(2) # only can add unique value, wont do anything\n",
    "print(myset) "
   ]
  },
  {
   "cell_type": "code",
   "execution_count": 16,
   "metadata": {},
   "outputs": [
    {
     "name": "stdout",
     "output_type": "stream",
     "text": [
      "{1, 2, 3, 4, 99, 70, 45}\n"
     ]
    }
   ],
   "source": [
    "numbers = [1,1,2,2,3,3,4,4,45,45,70,70,99,99]\n",
    "print(set(numbers)) # cast list as a set\n",
    "# sets don't have particular order"
   ]
  },
  {
   "cell_type": "markdown",
   "metadata": {},
   "source": [
    "## Chapter: 06\n",
    "## Booleans -> True False"
   ]
  },
  {
   "cell_type": "code",
   "execution_count": 17,
   "metadata": {},
   "outputs": [
    {
     "name": "stdout",
     "output_type": "stream",
     "text": [
      "<class 'bool'> <class 'bool'>\n",
      "False\n",
      "True\n"
     ]
    }
   ],
   "source": [
    "print(type(True),type(False))\n",
    "print(1>2)\n",
    "print(1.0==1)"
   ]
  },
  {
   "cell_type": "code",
   "execution_count": 18,
   "metadata": {},
   "outputs": [
    {
     "name": "stdout",
     "output_type": "stream",
     "text": [
      "None <class 'NoneType'>\n"
     ]
    }
   ],
   "source": [
    "b = None # if you want to define without specific type\n",
    "print(b, type(b))"
   ]
  },
  {
   "cell_type": "code",
   "execution_count": 19,
   "metadata": {},
   "outputs": [
    {
     "name": "stdout",
     "output_type": "stream",
     "text": [
      "Is 100 odd? False\n",
      "Is -1 odd? True\n"
     ]
    }
   ],
   "source": [
    "def is_odd(number):\n",
    "    return True if (number % 2) == 1 else False\n",
    "print(\"Is 100 odd?\", is_odd(100))\n",
    "print(\"Is -1 odd?\", is_odd(-1))"
   ]
  },
  {
   "cell_type": "code",
   "execution_count": 20,
   "metadata": {},
   "outputs": [
    {
     "name": "stdout",
     "output_type": "stream",
     "text": [
      "Is 100 odd? False\n",
      "Is -1 odd? True\n"
     ]
    }
   ],
   "source": [
    "def is_odd(n):\n",
    "    return (n % 2) == 1\n",
    "print(\"Is 100 odd?\", is_odd(100))\n",
    "print(\"Is -1 odd?\", is_odd(-1))"
   ]
  },
  {
   "cell_type": "code",
   "execution_count": 21,
   "metadata": {},
   "outputs": [
    {
     "data": {
      "text/plain": [
       "True"
      ]
     },
     "execution_count": 21,
     "metadata": {},
     "output_type": "execute_result"
    }
   ],
   "source": [
    "True > False\n",
    "1 > 0"
   ]
  },
  {
   "cell_type": "code",
   "execution_count": 22,
   "metadata": {
    "scrolled": true
   },
   "outputs": [
    {
     "data": {
      "text/plain": [
       "True"
      ]
     },
     "execution_count": 22,
     "metadata": {},
     "output_type": "execute_result"
    }
   ],
   "source": [
    "True or False and not 1 < 0 or False # precedence ()|**|*|/|//|%|+|-|==|!=|>|>=|<|<=|is|is not|in|not in|not|and|or\n",
    "#True or False and not (1< 0) or False\n",
    "#True or False and (not False) or False\n",
    "#True or (False and True) or False\n",
    "#(True or False) or False\n",
    "#True or False\n",
    "#True"
   ]
  },
  {
   "cell_type": "code",
   "execution_count": 23,
   "metadata": {},
   "outputs": [
    {
     "name": "stdout",
     "output_type": "stream",
     "text": [
      "False\n",
      "False\n",
      "True\n"
     ]
    }
   ],
   "source": [
    "def criteria_president(residential,age,citizen):\n",
    "    \"\"\"\n",
    "    Checks whether applicant is applicable for the presidential election.\n",
    "    Parameters\n",
    "    ----------\n",
    "    residential : bool\n",
    "      staying in the USA for 14 or more years\n",
    "    age : int\n",
    "      age of the applicant\n",
    "    citizen : bool\n",
    "      USA passport holder\n",
    "    Returns\n",
    "    -------\n",
    "    I : bool\n",
    "      True if conditions satisfies otherwise False\n",
    "    Examples\n",
    "    --------\n",
    "    >>> criteria_president(True,40,False)\n",
    "    True\n",
    "    \"\"\"\n",
    "    return ((age > 35) and (residential or citizen))\n",
    "print(\n",
    "    criteria_president(True,14,True),\n",
    "    criteria_president(False,70,False),\n",
    "    criteria_president(True,40,False),\n",
    "    sep='\\n'\n",
    ")"
   ]
  },
  {
   "cell_type": "code",
   "execution_count": 24,
   "metadata": {},
   "outputs": [
    {
     "name": "stdout",
     "output_type": "stream",
     "text": [
      "spam\n"
     ]
    }
   ],
   "source": [
    "if 0: # all numbers are treated as true, except 0\n",
    "    print(0)\n",
    "elif \"spam\": # all strings are treated as true, except the empty string \"\"\n",
    "    print(\"spam\")"
   ]
  },
  {
   "cell_type": "markdown",
   "metadata": {},
   "source": [
    "## Chapter: 07\n",
    "## I/O Operations"
   ]
  },
  {
   "cell_type": "code",
   "execution_count": 25,
   "metadata": {},
   "outputs": [
    {
     "name": "stdout",
     "output_type": "stream",
     "text": [
      "/mnt/46664B1F019551C6/Cod/Python Basics/workspace\n"
     ]
    }
   ],
   "source": [
    "import os\n",
    "print(os.getcwd()) # current working directory"
   ]
  },
  {
   "cell_type": "code",
   "execution_count": 26,
   "metadata": {},
   "outputs": [
    {
     "name": "stdout",
     "output_type": "stream",
     "text": [
      "Overwriting update.sh\n"
     ]
    }
   ],
   "source": [
    "%%writefile update.sh\n",
    "python --version\n",
    "lsb_release -d"
   ]
  },
  {
   "cell_type": "code",
   "execution_count": 27,
   "metadata": {},
   "outputs": [
    {
     "name": "stdout",
     "output_type": "stream",
     "text": [
      "Python 3.8.10\n",
      "Description:\tUbuntu 20.04.2 LTS\n"
     ]
    }
   ],
   "source": [
    "# terminal commands starts with '!' in jupyter-notebook\n",
    "!chmod +x update.sh\n",
    "!./update.sh"
   ]
  },
  {
   "cell_type": "code",
   "execution_count": 28,
   "metadata": {},
   "outputs": [
    {
     "data": {
      "text/plain": [
       "'python --version\\nlsb_release -d\\n'"
      ]
     },
     "execution_count": 28,
     "metadata": {},
     "output_type": "execute_result"
    }
   ],
   "source": [
    "myfile = open('update.sh')\n",
    "# myfile = open('/mnt/46664B1F019551C6/Cod/Python Basics/workspace/update.sh')\n",
    "# myfile = open('./foldername/filename')\n",
    "myfile.read()"
   ]
  },
  {
   "cell_type": "code",
   "execution_count": 29,
   "metadata": {},
   "outputs": [
    {
     "data": {
      "text/plain": [
       "''"
      ]
     },
     "execution_count": 29,
     "metadata": {},
     "output_type": "execute_result"
    }
   ],
   "source": [
    "myfile.read() # second read brings cursor at the end"
   ]
  },
  {
   "cell_type": "code",
   "execution_count": 30,
   "metadata": {},
   "outputs": [
    {
     "name": "stdout",
     "output_type": "stream",
     "text": [
      "0\n",
      "python --version\n",
      "lsb_release -d\n",
      "\n"
     ]
    }
   ],
   "source": [
    "print(myfile.seek(0))\n",
    "print(myfile.read()) "
   ]
  },
  {
   "cell_type": "code",
   "execution_count": 31,
   "metadata": {},
   "outputs": [
    {
     "name": "stdout",
     "output_type": "stream",
     "text": [
      "['python --version\\n', 'lsb_release -d\\n']\n",
      "['python --version', 'lsb_release -d']\n"
     ]
    }
   ],
   "source": [
    "myfile.seek(0)\n",
    "print(myfile.readlines()) # gives \\n at the end of all elements in the list\n",
    "myfile.seek(0)\n",
    "print(myfile.read().splitlines())"
   ]
  },
  {
   "cell_type": "code",
   "execution_count": 32,
   "metadata": {},
   "outputs": [],
   "source": [
    "myfile.close() # has to close it to modify from elsewhere "
   ]
  },
  {
   "cell_type": "code",
   "execution_count": 33,
   "metadata": {},
   "outputs": [
    {
     "name": "stdout",
     "output_type": "stream",
     "text": [
      "python --version\n",
      "lsb_release -d\n",
      "\n"
     ]
    }
   ],
   "source": [
    "# Another/popular way of opening the file\n",
    "with open('update.sh') as myfile:\n",
    "    print(myfile.read())\n",
    "    \n",
    "myfile.close()"
   ]
  },
  {
   "cell_type": "code",
   "execution_count": 34,
   "metadata": {},
   "outputs": [],
   "source": [
    "# shift+tab over the bracket to view default arguments and documentation in jupyter-notebook\n",
    "with open('update.sh',mode='a') as myfile: # default - mode='r'\n",
    "    # modes\n",
    "    # r - read only (default)\n",
    "    # w - write only (overwrite or create new)\n",
    "    # a - append only\n",
    "    # r+ - reading and writing\n",
    "    # w+ - writing and reading (overwrite or create new)\n",
    "    myfile.write('pip list')\n",
    "    \n",
    "myfile.close()"
   ]
  },
  {
   "cell_type": "code",
   "execution_count": 35,
   "metadata": {},
   "outputs": [
    {
     "name": "stdout",
     "output_type": "stream",
     "text": [
      "python --version\n",
      "lsb_release -d\n",
      "pip list\n",
      "Python 3.8.10\n",
      "Description:\tUbuntu 20.04.2 LTS\n",
      "Package             Version\n",
      "------------------- -------\n",
      "argon2-cffi         20.1.0\n",
      "async-generator     1.10\n",
      "attrs               21.2.0\n",
      "backcall            0.2.0\n",
      "bleach              3.3.1\n",
      "cffi                1.14.6\n",
      "debugpy             1.4.1\n",
      "decorator           5.0.9\n",
      "defusedxml          0.7.1\n",
      "entrypoints         0.3\n",
      "ipykernel           6.0.3\n",
      "ipython             7.26.0\n",
      "ipython-genutils    0.2.0\n",
      "ipywidgets          7.6.3\n",
      "jedi                0.18.0\n",
      "Jinja2              3.0.1\n",
      "jsonschema          3.2.0\n",
      "jupyter             1.0.0\n",
      "jupyter-client      6.1.12\n",
      "jupyter-console     6.4.0\n",
      "jupyter-core        4.7.1\n",
      "jupyterlab-pygments 0.1.2\n",
      "jupyterlab-widgets  1.0.0\n",
      "MarkupSafe          2.0.1\n",
      "matplotlib-inline   0.1.2\n",
      "mistune             0.8.4\n",
      "nbclient            0.5.3\n",
      "nbconvert           6.1.0\n",
      "nbformat            5.1.3\n",
      "nest-asyncio        1.5.1\n",
      "notebook            6.4.0\n",
      "numpy               1.21.1\n",
      "packaging           21.0\n",
      "pandas              1.3.1\n",
      "pandocfilters       1.4.3\n",
      "parso               0.8.2\n",
      "pexpect             4.8.0\n",
      "pickleshare         0.7.5\n",
      "pip                 21.2.2\n",
      "pkg_resources       0.0.0\n",
      "prometheus-client   0.11.0\n",
      "prompt-toolkit      3.0.19\n",
      "ptyprocess          0.7.0\n",
      "pycparser           2.20\n",
      "Pygments            2.9.0\n",
      "pyparsing           2.4.7\n",
      "pyrsistent          0.18.0\n",
      "python-dateutil     2.8.2\n",
      "pytz                2021.1\n",
      "pyzmq               22.1.0\n",
      "qtconsole           5.1.1\n",
      "QtPy                1.9.0\n",
      "Send2Trash          1.7.1\n",
      "setuptools          57.4.0\n",
      "six                 1.16.0\n",
      "terminado           0.10.1\n",
      "testpath            0.5.0\n",
      "tornado             6.1\n",
      "traitlets           5.0.5\n",
      "wcwidth             0.2.5\n",
      "webencodings        0.5.1\n",
      "wheel               0.36.2\n",
      "widgetsnbextension  3.5.1\n"
     ]
    }
   ],
   "source": [
    "with open('update.sh',mode='r') as myfile:\n",
    "    print(myfile.read())\n",
    "    \n",
    "myfile.close()\n",
    "!./update.sh"
   ]
  },
  {
   "cell_type": "code",
   "execution_count": 36,
   "metadata": {},
   "outputs": [],
   "source": [
    "with open('script.sh',mode='w') as f:\n",
    "    f.write('nvidia-smi')\n",
    "    \n",
    "myfile.close()"
   ]
  },
  {
   "cell_type": "code",
   "execution_count": 37,
   "metadata": {},
   "outputs": [
    {
     "name": "stdout",
     "output_type": "stream",
     "text": [
      "nvidia-smi\n",
      "Wed Aug  4 19:04:23 2021       \n",
      "+-----------------------------------------------------------------------------+\n",
      "| NVIDIA-SMI 460.91.03    Driver Version: 460.91.03    CUDA Version: 11.2     |\n",
      "|-------------------------------+----------------------+----------------------+\n",
      "| GPU  Name        Persistence-M| Bus-Id        Disp.A | Volatile Uncorr. ECC |\n",
      "| Fan  Temp  Perf  Pwr:Usage/Cap|         Memory-Usage | GPU-Util  Compute M. |\n",
      "|                               |                      |               MIG M. |\n",
      "|===============================+======================+======================|\n",
      "|   0  GeForce GTX 1650    Off  | 00000000:01:00.0 Off |                  N/A |\n",
      "| N/A   37C    P3    10W /  N/A |      9MiB /  3914MiB |      0%      Default |\n",
      "|                               |                      |                  N/A |\n",
      "+-------------------------------+----------------------+----------------------+\n",
      "                                                                               \n",
      "+-----------------------------------------------------------------------------+\n",
      "| Processes:                                                                  |\n",
      "|  GPU   GI   CI        PID   Type   Process name                  GPU Memory |\n",
      "|        ID   ID                                                   Usage      |\n",
      "|=============================================================================|\n",
      "|    0   N/A  N/A      1150      G   /usr/lib/xorg/Xorg                  4MiB |\n",
      "|    0   N/A  N/A      1910      G   /usr/lib/xorg/Xorg                  4MiB |\n",
      "+-----------------------------------------------------------------------------+\n"
     ]
    }
   ],
   "source": [
    "with open('script.sh',mode='r') as f:\n",
    "    print(f.read())\n",
    "    \n",
    "myfile.close()\n",
    "!chmod +x script.sh\n",
    "!./script.sh"
   ]
  },
  {
   "cell_type": "markdown",
   "metadata": {},
   "source": [
    "## Chapter: 08"
   ]
  },
  {
   "cell_type": "markdown",
   "metadata": {},
   "source": [
    "## Built-in Functions"
   ]
  },
  {
   "cell_type": "code",
   "execution_count": 38,
   "metadata": {},
   "outputs": [
    {
     "name": "stdout",
     "output_type": "stream",
     "text": [
      "1 < 2 < 3\n"
     ]
    }
   ],
   "source": [
    "print(1, 2, 3, sep=' < ')"
   ]
  },
  {
   "cell_type": "markdown",
   "metadata": {},
   "source": [
    "## User Defined Functions "
   ]
  },
  {
   "cell_type": "code",
   "execution_count": 39,
   "metadata": {},
   "outputs": [],
   "source": [
    "def least_difference(a, b, c, d=0): # assigned values as an argument makes it optional\n",
    "    \"\"\"Return the smallest difference between any two numbers\n",
    "    among a, b and c.\n",
    "    \n",
    "    >>> least_difference(1, 5, -5)\n",
    "    4\n",
    "    \"\"\" # called 'docstrings'\n",
    "    diff1 = abs(a - b)\n",
    "    diff2 = abs(b - c)\n",
    "    diff3 = abs(a - c)\n",
    "    return min(diff1, diff2, diff3) # if we don't write return, return will be None"
   ]
  },
  {
   "cell_type": "code",
   "execution_count": 40,
   "metadata": {},
   "outputs": [
    {
     "name": "stdout",
     "output_type": "stream",
     "text": [
      "9 0 1\n"
     ]
    }
   ],
   "source": [
    "print(\n",
    "    least_difference(1, 10, 100),\n",
    "    least_difference(1, 10, 10),\n",
    "    least_difference(5, 6, 7), # Python allows trailing commas in argument lists. How nice is that?\n",
    ")"
   ]
  },
  {
   "cell_type": "code",
   "execution_count": 41,
   "metadata": {
    "scrolled": true
   },
   "outputs": [
    {
     "name": "stdout",
     "output_type": "stream",
     "text": [
      "Help on function least_difference in module __main__:\n",
      "\n",
      "least_difference(a, b, c, d=0)\n",
      "    Return the smallest difference between any two numbers\n",
      "    among a, b and c.\n",
      "    \n",
      "    >>> least_difference(1, 5, -5)\n",
      "    4\n",
      "\n"
     ]
    }
   ],
   "source": [
    "help(least_difference)"
   ]
  },
  {
   "cell_type": "markdown",
   "metadata": {},
   "source": [
    "### Proper docstrings Example:"
   ]
  },
  {
   "cell_type": "code",
   "execution_count": 42,
   "metadata": {},
   "outputs": [],
   "source": [
    "def eye(N, M=None, k=0, dtype=float, order='C'):\n",
    "    \"\"\"\n",
    "    Return a 2-D array with ones on the diagonal and zeros elsewhere.\n",
    "    Parameters\n",
    "    ----------\n",
    "    N : int\n",
    "      Number of rows in the output.\n",
    "    M : int, optional\n",
    "      Number of columns in the output. If None, defaults to `N`.\n",
    "    k : int, optional\n",
    "      Index of the diagonal: 0 (the default) refers to the main diagonal,\n",
    "      a positive value refers to an upper diagonal, and a negative value\n",
    "      to a lower diagonal.\n",
    "    dtype : data-type, optional\n",
    "      Data-type of the returned array.\n",
    "    order : {'C', 'F'}, optional\n",
    "        Whether the output should be stored in row-major (C-style) or\n",
    "        column-major (Fortran-style) order in memory.\n",
    "        .. versionadded:: 1.14.0\n",
    "    Returns\n",
    "    -------\n",
    "    I : ndarray of shape (N,M)\n",
    "      An array where all elements are equal to zero, except for the `k`-th\n",
    "      diagonal, whose values are equal to one.\n",
    "    See Also\n",
    "    --------\n",
    "    identity : (almost) equivalent function\n",
    "    diag : diagonal 2-D array from a 1-D array specified by the user.\n",
    "    Examples\n",
    "    --------\n",
    "    >>> np.eye(2, dtype=int)\n",
    "    array([[1, 0],\n",
    "           [0, 1]])\n",
    "    >>> np.eye(3, k=1)\n",
    "    array([[ 0.,  1.,  0.],\n",
    "           [ 0.,  0.,  1.],\n",
    "           [ 0.,  0.,  0.]])\n",
    "    \"\"\"\n",
    "    if M is None:\n",
    "        M = N\n",
    "    m = zeros((N, M), dtype=dtype, order=order)\n",
    "    if k >= M:\n",
    "        return m\n",
    "    if k >= 0:\n",
    "        i = k\n",
    "    else:\n",
    "        i = (-k) * M\n",
    "    m[:M-k].flat[i::M+1] = 1\n",
    "    return m"
   ]
  },
  {
   "cell_type": "code",
   "execution_count": 43,
   "metadata": {},
   "outputs": [
    {
     "name": "stdout",
     "output_type": "stream",
     "text": [
      "Help on function eye in module __main__:\n",
      "\n",
      "eye(N, M=None, k=0, dtype=<class 'float'>, order='C')\n",
      "    Return a 2-D array with ones on the diagonal and zeros elsewhere.\n",
      "    Parameters\n",
      "    ----------\n",
      "    N : int\n",
      "      Number of rows in the output.\n",
      "    M : int, optional\n",
      "      Number of columns in the output. If None, defaults to `N`.\n",
      "    k : int, optional\n",
      "      Index of the diagonal: 0 (the default) refers to the main diagonal,\n",
      "      a positive value refers to an upper diagonal, and a negative value\n",
      "      to a lower diagonal.\n",
      "    dtype : data-type, optional\n",
      "      Data-type of the returned array.\n",
      "    order : {'C', 'F'}, optional\n",
      "        Whether the output should be stored in row-major (C-style) or\n",
      "        column-major (Fortran-style) order in memory.\n",
      "        .. versionadded:: 1.14.0\n",
      "    Returns\n",
      "    -------\n",
      "    I : ndarray of shape (N,M)\n",
      "      An array where all elements are equal to zero, except for the `k`-th\n",
      "      diagonal, whose values are equal to one.\n",
      "    See Also\n",
      "    --------\n",
      "    identity : (almost) equivalent function\n",
      "    diag : diagonal 2-D array from a 1-D array specified by the user.\n",
      "    Examples\n",
      "    --------\n",
      "    >>> np.eye(2, dtype=int)\n",
      "    array([[1, 0],\n",
      "           [0, 1]])\n",
      "    >>> np.eye(3, k=1)\n",
      "    array([[ 0.,  1.,  0.],\n",
      "           [ 0.,  0.,  1.],\n",
      "           [ 0.,  0.,  0.]])\n",
      "\n"
     ]
    }
   ],
   "source": [
    "help(eye)"
   ]
  },
  {
   "cell_type": "code",
   "execution_count": 44,
   "metadata": {
    "scrolled": false
   },
   "outputs": [
    {
     "data": {
      "text/plain": [
       "array([[0., 0., 0., 0., 0.],\n",
       "       [1., 0., 0., 0., 0.],\n",
       "       [0., 1., 0., 0., 0.],\n",
       "       [0., 0., 1., 0., 0.],\n",
       "       [0., 0., 0., 1., 0.]])"
      ]
     },
     "execution_count": 44,
     "metadata": {},
     "output_type": "execute_result"
    }
   ],
   "source": [
    "import numpy as np\n",
    "np.eye(5, k=-1)"
   ]
  },
  {
   "cell_type": "markdown",
   "metadata": {},
   "source": [
    "### Functions Applied to Functions"
   ]
  },
  {
   "cell_type": "code",
   "execution_count": 45,
   "metadata": {
    "scrolled": true
   },
   "outputs": [
    {
     "name": "stdout",
     "output_type": "stream",
     "text": [
      "5\n",
      "25\n"
     ]
    }
   ],
   "source": [
    "def mult_by_five(x):\n",
    "    return 5 * x\n",
    "\n",
    "def call(fn, arg):\n",
    "    \"\"\"Call fn on arg\"\"\"\n",
    "    return fn(arg)\n",
    "\n",
    "def squared_call(fn, arg):\n",
    "    \"\"\"Call fn on the result of calling fn on arg\"\"\"\n",
    "    return fn(fn(arg))\n",
    "\n",
    "print(\n",
    "    call(mult_by_five, 1),\n",
    "    squared_call(mult_by_five, 1), \n",
    "    sep='\\n', # '\\n' is the newline character - it starts a new line\n",
    ")"
   ]
  },
  {
   "cell_type": "markdown",
   "metadata": {},
   "source": [
    "### Functions that operate on other functions are called \"higher-order functions.\""
   ]
  },
  {
   "cell_type": "code",
   "execution_count": 46,
   "metadata": {},
   "outputs": [
    {
     "name": "stdout",
     "output_type": "stream",
     "text": [
      "Help on built-in function max in module builtins:\n",
      "\n",
      "max(...)\n",
      "    max(iterable, *[, default=obj, key=func]) -> value\n",
      "    max(arg1, arg2, *args, *[, key=func]) -> value\n",
      "    \n",
      "    With a single iterable argument, return its biggest item. The\n",
      "    default keyword-only argument specifies an object to return if\n",
      "    the provided iterable is empty.\n",
      "    With two or more arguments, return the largest argument.\n",
      "\n"
     ]
    }
   ],
   "source": [
    "help(max)"
   ]
  },
  {
   "cell_type": "code",
   "execution_count": 47,
   "metadata": {},
   "outputs": [
    {
     "name": "stdout",
     "output_type": "stream",
     "text": [
      "Which number is biggest?\n",
      "100\n",
      "Which number is the biggest modulo 5?\n",
      "14\n"
     ]
    }
   ],
   "source": [
    "def mod_5(x):\n",
    "    \"\"\"Return the remainder of x after dividing by 5\"\"\"\n",
    "    return x % 5\n",
    "\n",
    "print(\n",
    "    'Which number is biggest?',\n",
    "    max(100, 51, 14),\n",
    "    'Which number is the biggest modulo 5?',\n",
    "    max(100, 51, 14, key=mod_5),\n",
    "    sep='\\n',\n",
    ")"
   ]
  },
  {
   "cell_type": "markdown",
   "metadata": {},
   "source": [
    "By default, max returns the largest of its arguments. But if we pass in a function using the optional key argument, it returns the argument x that maximizes key(x) (aka the 'argmax')."
   ]
  },
  {
   "cell_type": "code",
   "execution_count": 48,
   "metadata": {},
   "outputs": [
    {
     "name": "stdout",
     "output_type": "stream",
     "text": [
      "0 1 4\n",
      "4\n"
     ]
    }
   ],
   "source": [
    "print(100%5,51%5,14%5)\n",
    "print(max(100%5,51%5,14%5))"
   ]
  },
  {
   "cell_type": "code",
   "execution_count": null,
   "metadata": {},
   "outputs": [],
   "source": []
  }
 ],
 "metadata": {
  "interpreter": {
   "hash": "cfad60bf3bfb8441fdd58d463f90ba5ffec9983e8972a60af19b09baaa973e8e"
  },
  "kernelspec": {
   "display_name": "Python 3 (ipykernel)",
   "language": "python",
   "name": "python3"
  },
  "language_info": {
   "codemirror_mode": {
    "name": "ipython",
    "version": 3
   },
   "file_extension": ".py",
   "mimetype": "text/x-python",
   "name": "python",
   "nbconvert_exporter": "python",
   "pygments_lexer": "ipython3",
   "version": "3.8.10"
  }
 },
 "nbformat": 4,
 "nbformat_minor": 2
}
