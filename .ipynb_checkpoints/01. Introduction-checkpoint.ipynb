{
 "cells": [
  {
   "cell_type": "markdown",
   "metadata": {},
   "source": [
    "## Why Python?\n",
    "1. Easy to use language\n",
    "2. Lots of existing libraries and frameworks written in Python allowing users to apply Python to a wide variety of tasks \n",
    "3. Focuses on developer time than computer's processing time\n",
    "4. Great official documentation\n"
   ]
  },
  {
   "cell_type": "markdown",
   "metadata": {},
   "source": [
    "## What can you do with Python?\n",
    "1. Automate simple tasks\n",
    "\n",
    "Eg. searching files and edit them, \n",
    "    scraping information from a website,\n",
    "    reading and editing excel files,\n",
    "    work with PDFs,\n",
    "    automate email and text messages,\n",
    "    fill out forms\n",
    "\n",
    "2. Data Science and Machine Learning\n",
    "\n",
    "Eg. Analyze large data files,\n",
    "    create visualizations,\n",
    "    perform machine learning tasks,\n",
    "    create and run predictive algorithms\n",
    "\n",
    "3. Create websites\n",
    "\n",
    "Eg. Use web frameworks such as Django and Flask to handle the backend of a website and user data, \n",
    "    create interactive dashboards for users "
   ]
  },
  {
   "cell_type": "markdown",
   "metadata": {},
   "source": [
    "## DataTypes:\n",
    "int -> whole numbers\n",
    "\n",
    "float -> numbers with a decima point\n",
    "\n",
    "str -> ordered Sequence of characters ' ', \" \" IMMUTABLE\n",
    "\n",
    "list -> ordered sequence of objects \\[' ', ]\n",
    "\n",
    "dict -> unordered key:value pair {:}\n",
    "\n",
    "tup -> ordered immutable sequence of objects ()\n",
    "\n",
    "set -> unordered collection of unique objects {,}\n",
    "\n",
    "bool -> logical value indicating True or False"
   ]
  },
  {
   "cell_type": "markdown",
   "metadata": {},
   "source": [
    "## Variable Assignment:\n",
    "\n",
    "not valid:\n",
    "\n",
    "123dof -> can't start with a number\n",
    "\n",
    "adolf hitler -> no spaces\n",
    "\n",
    "special characters\n",
    "\n",
    "keywords\n",
    "\n",
    "\n",
    "\n"
   ]
  },
  {
   "cell_type": "markdown",
   "metadata": {},
   "source": [
    "## Operators (follows BODMAS):\n",
    "\n",
    "addition -> +\n",
    "\n",
    "subtraction -> -\n",
    "\n",
    "division -> / (gives float)\n",
    "\n",
    "mod or modulo -> % (gives remainder in int)\n",
    "\n",
    "powers -> **\n",
    "\n"
   ]
  },
  {
   "cell_type": "markdown",
   "metadata": {},
   "source": [
    "## Python uses Dynamic Typing\n",
    "\n",
    "ie you can reassign variables to different data types.\n",
    "\n",
    "Dynamic typing--\n",
    "\n",
    "my_dogs = 2\n",
    "\n",
    "my_dogs = \\['tiger','shadow']\n",
    "\n",
    "Statically-Typed--\n",
    "\n",
    "int my_dog = 1;\n",
    "\n",
    "my_dog = 'sam'; //results in error\n",
    "\n"
   ]
  },
  {
   "cell_type": "code",
   "execution_count": 1,
   "metadata": {},
   "outputs": [
    {
     "name": "stdout",
     "output_type": "stream",
     "text": [
      "<class 'int'>\n"
     ]
    }
   ],
   "source": [
    "my_dogs = 2\n",
    "print(type(my_dogs))"
   ]
  },
  {
   "cell_type": "code",
   "execution_count": 2,
   "metadata": {},
   "outputs": [
    {
     "name": "stdout",
     "output_type": "stream",
     "text": [
      "<class 'list'>\n"
     ]
    }
   ],
   "source": [
    "my_dogs = ['tiger','shadow']\n",
    "print(type(my_dogs))"
   ]
  },
  {
   "cell_type": "markdown",
   "metadata": {},
   "source": [
    "## Chapter 01: \n",
    "## Strings -> ' ' / \" \" / \" '     \""
   ]
  },
  {
   "cell_type": "code",
   "execution_count": 3,
   "metadata": {
    "scrolled": false
   },
   "outputs": [
    {
     "name": "stdout",
     "output_type": "stream",
     "text": [
      "5\n",
      "hello\n",
      "hello\n",
      "hlo\n",
      "olleh\n",
      "\n",
      "\n",
      "\n",
      "'\n",
      "\\\n",
      "I am a \"Coder\"\n",
      "new\n",
      "line\n",
      "name\tage\n"
     ]
    }
   ],
   "source": [
    "\n",
    "mystring = 'hello'\n",
    "print(len(mystring))\n",
    "\n",
    "# h  e  l  l  o \n",
    "# 0  1  2  3  4\n",
    "# 0 -4 -3 -2 -1\n",
    "\n",
    "print(mystring[:])\n",
    "print(mystring[::])\n",
    "# indexing -> mystring[-2] gives 'l' \n",
    "# slicing -> mystring[2:] gives 'llo'\n",
    "#            mystring[1:3] gives 'el'\n",
    "#            mystring[:3] gives 'hel'\n",
    "# mystring[start:stop:step]\n",
    "print(mystring[::2])\n",
    "print(mystring[::-1]) # reverses the string \n",
    "\n",
    "# escape sequences\n",
    "print(\"\\n\\n\")\n",
    "print(\"\\'\")\n",
    "print(\"\\\\\")\n",
    "print(\"I am a \\\"Coder\\\"\")\n",
    "print(\"new\\nline\")\n",
    "print(\"name\\tage\")\n"
   ]
  },
  {
   "cell_type": "markdown",
   "metadata": {},
   "source": [
    "## String operations"
   ]
  },
  {
   "cell_type": "code",
   "execution_count": 4,
   "metadata": {},
   "outputs": [
    {
     "name": "stdout",
     "output_type": "stream",
     "text": [
      "Pam PamPamPam\n",
      "\n",
      "\n",
      "                id memory_location\n",
      "0  140666436883632  0x7fef750094b0\n",
      "1  140666428058576  0x7fef7479ebd0\n",
      "\n",
      "\n",
      "DISHANT MEWADA! dishant mewada! Dishant mewada!\n",
      "['dishant', 'mewada!'] ['', 'ishant mewa', 'a!']\n"
     ]
    }
   ],
   "source": [
    "name = \"Sam\"\n",
    "last_letters = name[1:]\n",
    "new_name = 'P' + last_letters # string concatenation\n",
    "print(new_name, new_name * 3)\n",
    "print('\\n')\n",
    "\n",
    "x = 'hello world!'\n",
    "old_id = id(x)\n",
    "old_mem_loc = hex(id(x)) \n",
    "\n",
    "x = x + ' it is amazing outside.'\n",
    "new_id = id(x)\n",
    "new_mem_loc = hex(id(x))\n",
    "\n",
    "import pandas as pd\n",
    "\n",
    "d = [[old_id, old_mem_loc],\n",
    "     [new_id, new_mem_loc]]\n",
    "\n",
    "df = pd.DataFrame(d, columns = ['id','memory_location'])\n",
    "print(df)\n",
    "print('\\n')\n",
    "\n",
    "x = 'dishant mewada!'\n",
    "print(x.upper(),x.lower(),x.capitalize())\n",
    "print(x.split(),x.split('d'))\n",
    "\n"
   ]
  },
  {
   "cell_type": "code",
   "execution_count": 5,
   "metadata": {},
   "outputs": [
    {
     "name": "stdout",
     "output_type": "stream",
     "text": [
      "Enter a name:dishant\n",
      "Enter an id:1701\n",
      "\n",
      "Hello, dishant: 1701\n",
      "Hello, dishant: 1701\n",
      "Hello, dishant: 1701\n",
      "Hello, dishant: 1701 dishant\n",
      "Hello, dishant: 1701\n",
      "Hello, dishant: 1701\n"
     ]
    }
   ],
   "source": [
    "username = input(\"Enter a name:\")\n",
    "while True:\n",
    "    try:\n",
    "        idx = int(input(\"Enter an id:\"))\n",
    "        break\n",
    "    except ValueError as e:\n",
    "        print(\"Not a proper integer! Try it again\")\n",
    "\n",
    "print(\"\\nHello, \" + username + \":\", idx)\n",
    "print(\"Hello, {}: {}\".format(username, idx))\n",
    "print(\"Hello, {1}: {0}\".format(idx, username))\n",
    "print(\"Hello, {1}: {0} {1}\".format(idx, username))\n",
    "print(\"Hello, {u}: {i}\".format(i = idx, u = username))\n",
    "print(f\"Hello, {username}: {idx}\") # f-string"
   ]
  },
  {
   "cell_type": "code",
   "execution_count": 6,
   "metadata": {},
   "outputs": [
    {
     "name": "stdout",
     "output_type": "stream",
     "text": [
      "The result was 0.6394267984578837\n",
      "The result was 63.942679845788376%\n",
      "The result was 63.943%\n",
      "The result was     63.943%\n"
     ]
    }
   ],
   "source": [
    "from random import seed\n",
    "from random import random\n",
    "\n",
    "seed(42)\n",
    "result = random()\n",
    "\n",
    "print(f\"The result was {result}\")\n",
    "print(\"The result was {}%\".format(result*100))\n",
    "print(\"The result was {r:1.3f}%\".format(r=result*100))\n",
    "print(\"The result was {r:10.3f}%\".format(r=result*100))"
   ]
  },
  {
   "cell_type": "markdown",
   "metadata": {},
   "source": [
    "## Chapter: 02\n",
    "## Lists"
   ]
  },
  {
   "cell_type": "code",
   "execution_count": null,
   "metadata": {},
   "outputs": [],
   "source": []
  }
 ],
 "metadata": {
  "interpreter": {
   "hash": "cfad60bf3bfb8441fdd58d463f90ba5ffec9983e8972a60af19b09baaa973e8e"
  },
  "kernelspec": {
   "display_name": "Python 3 (ipykernel)",
   "language": "python",
   "name": "python3"
  },
  "language_info": {
   "codemirror_mode": {
    "name": "ipython",
    "version": 3
   },
   "file_extension": ".py",
   "mimetype": "text/x-python",
   "name": "python",
   "nbconvert_exporter": "python",
   "pygments_lexer": "ipython3",
   "version": "3.8.10"
  }
 },
 "nbformat": 4,
 "nbformat_minor": 2
}
