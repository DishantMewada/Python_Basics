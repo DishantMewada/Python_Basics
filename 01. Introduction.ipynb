{
 "cells": [
  {
   "cell_type": "markdown",
   "metadata": {},
   "source": [
    "## Why Python?\n",
    "1. Easy to use language\n",
    "2. Lots of existing libraries and frameworks written in Python allowing users to apply Python to a wide variety of tasks \n",
    "3. Focuses on developer time than computer's processing time\n",
    "4. Great official documentation\n"
   ]
  },
  {
   "cell_type": "markdown",
   "metadata": {},
   "source": [
    "## What can you do with Python?\n",
    "1. Automate simple tasks\n",
    "\n",
    "Eg. searching files and edit them, \n",
    "    scraping information from a website,\n",
    "    reading and editing excel files,\n",
    "    work with PDFs,\n",
    "    automate email and text messages,\n",
    "    fill out forms\n",
    "\n",
    "2. Data Science and Machine Learning\n",
    "\n",
    "Eg. Analyze large data files,\n",
    "    create visualizations,\n",
    "    perform machine learning tasks,\n",
    "    create and run predictive algorithms\n",
    "\n",
    "3. Create websites\n",
    "\n",
    "Eg. Use web frameworks such as Django and Flask to handle the backend of a website and user data, \n",
    "    create interactive dashboards for users "
   ]
  },
  {
   "cell_type": "markdown",
   "metadata": {},
   "source": [
    "## DataTypes:\n",
    "int -> whole numbers\n",
    "\n",
    "float -> numbers with a decima point\n",
    "\n",
    "str -> ordered Sequence of characters ' ', \" \" IMMUTABLE\n",
    "\n",
    "list -> ordered sequence of objects \\[' ', ] MUTABLE\n",
    "\n",
    "dict -> unordered key:value pair {:} MUTABLE\n",
    "\n",
    "tup -> ordered immutable sequence of objects ()\n",
    "\n",
    "set -> unordered collection of unique objects {,}\n",
    "\n",
    "bool -> logical value indicating True or False"
   ]
  },
  {
   "cell_type": "markdown",
   "metadata": {},
   "source": [
    "## Variable Assignment:\n",
    "\n",
    "not valid:\n",
    "\n",
    "123dof -> can't start with a number\n",
    "\n",
    "adolf hitler -> no spaces\n",
    "\n",
    "special characters\n",
    "\n",
    "keywords\n",
    "\n",
    "\n",
    "\n"
   ]
  },
  {
   "cell_type": "markdown",
   "metadata": {},
   "source": [
    "## Operators (follows BODMAS):\n",
    "\n",
    "addition -> +\n",
    "\n",
    "subtraction -> -\n",
    "\n",
    "division -> / (gives float)\n",
    "\n",
    "mod or modulo -> % (gives remainder in int)\n",
    "\n",
    "powers -> **\n",
    "\n"
   ]
  },
  {
   "cell_type": "markdown",
   "metadata": {},
   "source": [
    "## Python uses Dynamic Typing\n",
    "\n",
    "ie you can reassign variables to different data types.\n",
    "\n",
    "Dynamic typing--\n",
    "\n",
    "my_dogs = 2\n",
    "\n",
    "my_dogs = \\['tiger','shadow']\n",
    "\n",
    "Statically-Typed--\n",
    "\n",
    "int my_dog = 1;\n",
    "\n",
    "my_dog = 'sam'; //results in error\n",
    "\n"
   ]
  },
  {
   "cell_type": "code",
   "execution_count": 1,
   "metadata": {},
   "outputs": [
    {
     "name": "stdout",
     "output_type": "stream",
     "text": [
      "<class 'int'>\n"
     ]
    }
   ],
   "source": [
    "my_dogs = 2\n",
    "print(type(my_dogs))"
   ]
  },
  {
   "cell_type": "code",
   "execution_count": 2,
   "metadata": {},
   "outputs": [
    {
     "name": "stdout",
     "output_type": "stream",
     "text": [
      "<class 'list'>\n"
     ]
    }
   ],
   "source": [
    "my_dogs = ['tiger','shadow']\n",
    "print(type(my_dogs))"
   ]
  },
  {
   "cell_type": "markdown",
   "metadata": {},
   "source": [
    "## Chapter 01: \n",
    "## Strings -> ' ' / \" \" / \" '     \""
   ]
  },
  {
   "cell_type": "code",
   "execution_count": 3,
   "metadata": {
    "scrolled": false
   },
   "outputs": [
    {
     "name": "stdout",
     "output_type": "stream",
     "text": [
      "5\n",
      "hello\n",
      "hello\n",
      "hlo\n",
      "olleh\n",
      "\n",
      "\n",
      "\n",
      "'\n",
      "\\\n",
      "I am a \"Coder\"\n",
      "new\n",
      "line\n",
      "name\tage\n"
     ]
    }
   ],
   "source": [
    "\n",
    "mystring = 'hello'\n",
    "print(len(mystring))\n",
    "\n",
    "# h  e  l  l  o \n",
    "# 0  1  2  3  4\n",
    "# 0 -4 -3 -2 -1\n",
    "\n",
    "print(mystring[:])\n",
    "print(mystring[::])\n",
    "# indexing -> mystring[-2] gives 'l' \n",
    "# slicing -> mystring[2:] gives 'llo'\n",
    "#            mystring[1:3] gives 'el'\n",
    "#            mystring[:3] gives 'hel'\n",
    "# mystring[start:stop:step]\n",
    "print(mystring[::2])\n",
    "print(mystring[::-1]) # reverses the string \n",
    "\n",
    "# escape sequences\n",
    "print(\"\\n\\n\")\n",
    "print(\"\\'\")\n",
    "print(\"\\\\\") \n",
    "print(\"I am a \\\"Coder\\\"\")\n",
    "print(\"new\\nline\")\n",
    "print(\"name\\tage\")\n"
   ]
  },
  {
   "cell_type": "markdown",
   "metadata": {},
   "source": [
    "## String operations"
   ]
  },
  {
   "cell_type": "code",
   "execution_count": 4,
   "metadata": {},
   "outputs": [
    {
     "name": "stdout",
     "output_type": "stream",
     "text": [
      "Pam PamPamPam\n",
      "\n",
      "\n",
      "                id memory_location\n",
      "0  140666436883632  0x7fef750094b0\n",
      "1  140666428058576  0x7fef7479ebd0\n",
      "\n",
      "\n",
      "DISHANT MEWADA! dishant mewada! Dishant mewada!\n",
      "['dishant', 'mewada!'] ['', 'ishant mewa', 'a!']\n"
     ]
    }
   ],
   "source": [
    "name = \"Sam\"\n",
    "last_letters = name[1:]\n",
    "new_name = 'P' + last_letters # string concatenation\n",
    "print(new_name, new_name * 3)\n",
    "print('\\n')\n",
    "\n",
    "x = 'hello world!'\n",
    "old_id = id(x)\n",
    "old_mem_loc = hex(id(x)) \n",
    "\n",
    "x = x + ' it is amazing outside.'\n",
    "new_id = id(x)\n",
    "new_mem_loc = hex(id(x))\n",
    "\n",
    "import pandas as pd\n",
    "\n",
    "d = [[old_id, old_mem_loc],\n",
    "     [new_id, new_mem_loc]]\n",
    "\n",
    "df = pd.DataFrame(d, columns = ['id','memory_location'])\n",
    "print(df)\n",
    "print('\\n')\n",
    "\n",
    "x = 'dishant mewada!'\n",
    "print(x.upper(),x.lower(),x.capitalize())\n",
    "print(x.split(),x.split('d'))\n",
    "\n"
   ]
  },
  {
   "cell_type": "code",
   "execution_count": 5,
   "metadata": {},
   "outputs": [
    {
     "name": "stdout",
     "output_type": "stream",
     "text": [
      "Enter a name:dishant\n",
      "Enter an id:1701\n",
      "\n",
      "Hello, dishant: 1701\n",
      "Hello, dishant: 1701\n",
      "Hello, dishant: 1701\n",
      "Hello, dishant: 1701 dishant\n",
      "Hello, dishant: 1701\n",
      "Hello, dishant: 1701\n"
     ]
    }
   ],
   "source": [
    "username = input(\"Enter a name:\")\n",
    "while True:\n",
    "    try:\n",
    "        idx = int(input(\"Enter an id:\"))\n",
    "        break\n",
    "    except ValueError as e:\n",
    "        print(\"Not a proper integer! Try it again\")\n",
    "\n",
    "print(\"\\nHello, \" + username + \":\", idx)\n",
    "print(\"Hello, {}: {}\".format(username, idx))\n",
    "print(\"Hello, {1}: {0}\".format(idx, username))\n",
    "print(\"Hello, {1}: {0} {1}\".format(idx, username))\n",
    "print(\"Hello, {u}: {i}\".format(i = idx, u = username))\n",
    "print(f\"Hello, {username}: {idx}\") # f-string"
   ]
  },
  {
   "cell_type": "code",
   "execution_count": 6,
   "metadata": {},
   "outputs": [
    {
     "name": "stdout",
     "output_type": "stream",
     "text": [
      "The result was 0.6394267984578837\n",
      "The result was 63.942679845788376%\n",
      "The result was 63.943%\n",
      "The result was     63.943%\n"
     ]
    }
   ],
   "source": [
    "from random import seed\n",
    "from random import random\n",
    "\n",
    "seed(42)\n",
    "result = random()\n",
    "\n",
    "print(f\"The result was {result}\")\n",
    "print(\"The result was {}%\".format(result*100))\n",
    "print(\"The result was {r:1.3f}%\".format(r=result*100))\n",
    "print(\"The result was {r:10.3f}%\".format(r=result*100))"
   ]
  },
  {
   "cell_type": "markdown",
   "metadata": {},
   "source": [
    "## Chapter: 02\n",
    "## Lists"
   ]
  },
  {
   "cell_type": "code",
   "execution_count": 25,
   "metadata": {},
   "outputs": [
    {
     "name": "stdout",
     "output_type": "stream",
     "text": [
      "['string', 20.0, True] 3 \n",
      "\n",
      "string\n",
      "[20.0, True] \n",
      "\n",
      "['string', 20.0, True, 33] 4 \n",
      "\n",
      "['STRING', 20.0, True, 33] 4 \n",
      "\n",
      "['STRING', 20.0, True, 33, 'appended'] 5 \n",
      "\n",
      "['STRING', 20.0, True, 33] 4 \n",
      "\n",
      "appended 8 \n",
      "\n",
      "[20.0, True, 33] 3 \n",
      "\n",
      "STRING 6 \n",
      "\n",
      "[True, 20.0, 33] 3 \n",
      "\n",
      "[33, 20.0, True] 3 \n",
      "\n"
     ]
    }
   ],
   "source": [
    "def list_operation(my_list):\n",
    "\n",
    "    \n",
    "    list_print(my_list)\n",
    "    \n",
    "    print(my_list[0]) # slicing works the same as String\n",
    "    print(my_list[1:],'\\n')\n",
    "\n",
    "    another_list = [33] \n",
    "    my_list = my_list + another_list  #concatenation\n",
    "    list_print(my_list)\n",
    "\n",
    "    my_list[0] = my_list[0].upper()\n",
    "    list_print(my_list)\n",
    "\n",
    "    my_list.append('appended')\n",
    "    list_print(my_list)\n",
    "\n",
    "    popped_item = my_list.pop() # default argument -1\n",
    "    list_print(my_list)\n",
    "    \n",
    "    list_print(popped_item)\n",
    "    \n",
    "    popped_item = my_list.pop(0)\n",
    "    list_print(my_list)\n",
    "    \n",
    "    list_print(popped_item)\n",
    "    \n",
    "    my_list.sort() # inplace \n",
    "    list_print(my_list)\n",
    "    \n",
    "    # inplace means it doesnt return anything,\n",
    "    # ie you cannot assign variable to it or you will get NULL as a result\n",
    "    # but still it will change the list\n",
    "    my_list.reverse() # inplace\n",
    "    list_print(my_list)\n",
    "    \n",
    "def list_print(my_list):\n",
    "    print(my_list,len(my_list),'\\n')\n",
    "    \n",
    "test = ['string', 100/5, True]\n",
    "list_operation(test)"
   ]
  },
  {
   "cell_type": "markdown",
   "metadata": {},
   "source": [
    "## Chapter: 03\n",
    "## Dictionary"
   ]
  },
  {
   "cell_type": "code",
   "execution_count": 50,
   "metadata": {},
   "outputs": [
    {
     "name": "stdout",
     "output_type": "stream",
     "text": [
      "[84, None]\n",
      "\n",
      "\n",
      "{'JOhn': [76, None], 'Marcia': [84, None], 'Jimmy': [95, {'GRE': 'A2', 'SAT': [91.55, 86.55, 93.45, 98.44]}]}\n",
      "\n",
      "\n",
      "[91.55, 86.55, 93.45, 98.44]\n",
      "\n",
      "\n",
      "{'JOhn': [76, None], 'Marcia': [87, {'SAT': [71.55, 86, 85.2, 88.6]}], 'Jimmy': [95, {'GRE': 'A2', 'SAT': [91.55, 86.55, 93.45, 98.44]}]}\n",
      "\n",
      "\n",
      "dict_keys(['JOhn', 'Marcia', 'Jimmy'])\n",
      "dict_values([[76, None], [87, {'SAT': [71.55, 86, 85.2, 88.6]}], [95, {'GRE': 'A2', 'SAT': [91.55, 86.55, 93.45, 98.44]}]])\n",
      "\n",
      "\n",
      "{'Marcia': [87, {'SAT': [71.55, 86, 85.2, 88.6]}], 'Jimmy': [95, {'GRE': 'A2', 'SAT': [91.55, 86.55, 93.45, 98.44]}]}\n",
      "\n",
      "\n"
     ]
    }
   ],
   "source": [
    "def new_line():\n",
    "    print('\\n')\n",
    "\n",
    "student_score = {'JOhn':[76,None], 'Marcia':[84,None]}\n",
    "print(student_score['Marcia'])\n",
    "new_line()\n",
    "\n",
    "student_score['Jimmy'] = [95, {'GRE':'A2', 'SAT':[91.55,86.55,93.45,98.44]}]\n",
    "print(student_score)\n",
    "new_line()\n",
    "\n",
    "print(student_score['Jimmy'][1]['SAT'])\n",
    "new_line()\n",
    "\n",
    "\n",
    "student_score['Marcia'] = [87,{'SAT':[71.55,86,85.2,88.6]}]\n",
    "print(student_score)\n",
    "new_line()\n",
    "\n",
    "print(student_score.keys())\n",
    "print(student_score.values())\n",
    "new_line()\n",
    "\n",
    "# Keys cannot be changed. \n",
    "# You will need to add a new key with the modified value then remove the old one.\n",
    "# del student_score['JOhn']\n",
    "# or\n",
    "student_score.pop('JOhn')\n",
    "print(student_score)\n",
    "new_line()"
   ]
  },
  {
   "cell_type": "code",
   "execution_count": null,
   "metadata": {},
   "outputs": [],
   "source": []
  }
 ],
 "metadata": {
  "interpreter": {
   "hash": "cfad60bf3bfb8441fdd58d463f90ba5ffec9983e8972a60af19b09baaa973e8e"
  },
  "kernelspec": {
   "display_name": "Python 3 (ipykernel)",
   "language": "python",
   "name": "python3"
  },
  "language_info": {
   "codemirror_mode": {
    "name": "ipython",
    "version": 3
   },
   "file_extension": ".py",
   "mimetype": "text/x-python",
   "name": "python",
   "nbconvert_exporter": "python",
   "pygments_lexer": "ipython3",
   "version": "3.8.10"
  }
 },
 "nbformat": 4,
 "nbformat_minor": 2
}
